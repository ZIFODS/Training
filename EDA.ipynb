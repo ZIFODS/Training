{
 "cells": [
  {
   "cell_type": "markdown",
   "id": "a72ecd52",
   "metadata": {},
   "source": [
    "# Exploratory Data Analysis (EDA)\n",
    "Adapted from https://towardsdatascience.com/machine-learning-with-python-classification-complete-tutorial-d2c99dc524ec\n",
    "\n",
    "More to explore: https://towardsdatascience.com/semi-automated-exploratory-data-analysis-eda-in-python-7f96042c9809\n",
    "\n",
    "**Outline**\n",
    "* [Required python libraries](#Required-python-libraries)\n",
    "* [Dataset overall characteristics](#Dataset-and-its-overall-characteristics)\n",
    "* [Univariate Analysis](#Univariate-Analysis---One-variable-analysis)\n",
    " * [Bar plot](#Bar-plot)\n",
    " * [Histogram and Boxplot](#Histogram-and-Boxplot)\n",
    "* [Multivariate Analysis](#Multivariate-Analysis----the-simultaneous-analysis-of-more-than-one-outcome-variable)\n",
    " * [Categorical vs numerical](#Categorical-vs-numerical)\n",
    "   * [Density plot](#Density-plot)\n",
    "   * [Bins plot](#Bins-plot)\n",
    "   * [Box plot for two variables](#Boxplot-for-two-variables)\n",
    "   * [Pair plot](#Pair-plot)\n",
    "   * [One-way ANOVA](#One-way-ANOVA)\n",
    " * [Categorical vs categorical](#Categorical-vs-Categorical)\n",
    "   * [Count plot](#Count-plot)\n",
    "   * [Plot showing percentages](#Plot-showing-percentages-(Barplot-with-percentages))\n",
    "   * [Heatmap](#Heatmap)\n",
    "   * [Chi-Square test and Cramer’s V](#Chi-Square-test-and-Cramer%E2%80%99s-V)\n",
    " * [Numerical vs numerical](#Numerical-vs-numerical)\n",
    "   * [Scatter plot](#Scatter-plot)\n",
    "* [Correlation Analysis](#Correlation-Analysis)\n",
    "* [Exercise](#Exercise)"
   ]
  },
  {
   "cell_type": "markdown",
   "id": "dd0b90d6",
   "metadata": {},
   "source": [
    "## Required python libraries"
   ]
  },
  {
   "cell_type": "code",
   "execution_count": null,
   "id": "56de3d2a",
   "metadata": {},
   "outputs": [],
   "source": [
    "# Install necessary python libraries\n",
    "import sys\n",
    "!{sys.executable} -m pip install pandas\n",
    "!{sys.executable} -m pip install numpy\n",
    "!{sys.executable} -m pip install matplotlib\n",
    "!{sys.executable} -m pip install seaborn\n",
    "!{sys.executable} -m pip install scipy\n",
    "!{sys.executable} -m pip install statsmodels"
   ]
  },
  {
   "cell_type": "code",
   "execution_count": 2,
   "id": "e37360cf",
   "metadata": {},
   "outputs": [],
   "source": [
    "# Load necessary python libraries\n",
    "## for data\n",
    "import pandas as pd\n",
    "import numpy as np\n",
    "\n",
    "## for plotting\n",
    "import matplotlib.pyplot as plt\n",
    "import seaborn as sns\n",
    "\n",
    "## for statistical tests\n",
    "import scipy\n",
    "import statsmodels.formula.api as smf\n",
    "import statsmodels.api as sm\n",
    "\n",
    "## for encoding \n",
    "import sklearn.preprocessing as preproc"
   ]
  },
  {
   "cell_type": "markdown",
   "id": "ccab9725",
   "metadata": {},
   "source": [
    "## Dataset and its overall characteristics \n",
    "**Titanic dataset from Kaggle:**\n",
    "\n",
    "For the details see: https://www.kaggle.com/competitions/titanic/data"
   ]
  },
  {
   "cell_type": "code",
   "execution_count": 3,
   "id": "40d82c2d",
   "metadata": {},
   "outputs": [
    {
     "data": {
      "text/html": [
       "<div>\n",
       "<style scoped>\n",
       "    .dataframe tbody tr th:only-of-type {\n",
       "        vertical-align: middle;\n",
       "    }\n",
       "\n",
       "    .dataframe tbody tr th {\n",
       "        vertical-align: top;\n",
       "    }\n",
       "\n",
       "    .dataframe thead th {\n",
       "        text-align: right;\n",
       "    }\n",
       "</style>\n",
       "<table border=\"1\" class=\"dataframe\">\n",
       "  <thead>\n",
       "    <tr style=\"text-align: right;\">\n",
       "      <th></th>\n",
       "      <th>PassengerId</th>\n",
       "      <th>Survived</th>\n",
       "      <th>Pclass</th>\n",
       "      <th>Name</th>\n",
       "      <th>Sex</th>\n",
       "      <th>Age</th>\n",
       "      <th>SibSp</th>\n",
       "      <th>Parch</th>\n",
       "      <th>Ticket</th>\n",
       "      <th>Fare</th>\n",
       "      <th>Cabin</th>\n",
       "      <th>Embarked</th>\n",
       "    </tr>\n",
       "  </thead>\n",
       "  <tbody>\n",
       "    <tr>\n",
       "      <th>0</th>\n",
       "      <td>1</td>\n",
       "      <td>0</td>\n",
       "      <td>3</td>\n",
       "      <td>Braund, Mr. Owen Harris</td>\n",
       "      <td>male</td>\n",
       "      <td>22.0</td>\n",
       "      <td>1</td>\n",
       "      <td>0</td>\n",
       "      <td>A/5 21171</td>\n",
       "      <td>7.2500</td>\n",
       "      <td>NaN</td>\n",
       "      <td>S</td>\n",
       "    </tr>\n",
       "    <tr>\n",
       "      <th>1</th>\n",
       "      <td>2</td>\n",
       "      <td>1</td>\n",
       "      <td>1</td>\n",
       "      <td>Cumings, Mrs. John Bradley (Florence Briggs Th...</td>\n",
       "      <td>female</td>\n",
       "      <td>38.0</td>\n",
       "      <td>1</td>\n",
       "      <td>0</td>\n",
       "      <td>PC 17599</td>\n",
       "      <td>71.2833</td>\n",
       "      <td>C85</td>\n",
       "      <td>C</td>\n",
       "    </tr>\n",
       "    <tr>\n",
       "      <th>2</th>\n",
       "      <td>3</td>\n",
       "      <td>1</td>\n",
       "      <td>3</td>\n",
       "      <td>Heikkinen, Miss. Laina</td>\n",
       "      <td>female</td>\n",
       "      <td>26.0</td>\n",
       "      <td>0</td>\n",
       "      <td>0</td>\n",
       "      <td>STON/O2. 3101282</td>\n",
       "      <td>7.9250</td>\n",
       "      <td>NaN</td>\n",
       "      <td>S</td>\n",
       "    </tr>\n",
       "    <tr>\n",
       "      <th>3</th>\n",
       "      <td>4</td>\n",
       "      <td>1</td>\n",
       "      <td>1</td>\n",
       "      <td>Futrelle, Mrs. Jacques Heath (Lily May Peel)</td>\n",
       "      <td>female</td>\n",
       "      <td>35.0</td>\n",
       "      <td>1</td>\n",
       "      <td>0</td>\n",
       "      <td>113803</td>\n",
       "      <td>53.1000</td>\n",
       "      <td>C123</td>\n",
       "      <td>S</td>\n",
       "    </tr>\n",
       "    <tr>\n",
       "      <th>4</th>\n",
       "      <td>5</td>\n",
       "      <td>0</td>\n",
       "      <td>3</td>\n",
       "      <td>Allen, Mr. William Henry</td>\n",
       "      <td>male</td>\n",
       "      <td>35.0</td>\n",
       "      <td>0</td>\n",
       "      <td>0</td>\n",
       "      <td>373450</td>\n",
       "      <td>8.0500</td>\n",
       "      <td>NaN</td>\n",
       "      <td>S</td>\n",
       "    </tr>\n",
       "  </tbody>\n",
       "</table>\n",
       "</div>"
      ],
      "text/plain": [
       "   PassengerId  Survived  Pclass  \\\n",
       "0            1         0       3   \n",
       "1            2         1       1   \n",
       "2            3         1       3   \n",
       "3            4         1       1   \n",
       "4            5         0       3   \n",
       "\n",
       "                                                Name     Sex   Age  SibSp  \\\n",
       "0                            Braund, Mr. Owen Harris    male  22.0      1   \n",
       "1  Cumings, Mrs. John Bradley (Florence Briggs Th...  female  38.0      1   \n",
       "2                             Heikkinen, Miss. Laina  female  26.0      0   \n",
       "3       Futrelle, Mrs. Jacques Heath (Lily May Peel)  female  35.0      1   \n",
       "4                           Allen, Mr. William Henry    male  35.0      0   \n",
       "\n",
       "   Parch            Ticket     Fare Cabin Embarked  \n",
       "0      0         A/5 21171   7.2500   NaN        S  \n",
       "1      0          PC 17599  71.2833   C85        C  \n",
       "2      0  STON/O2. 3101282   7.9250   NaN        S  \n",
       "3      0            113803  53.1000  C123        S  \n",
       "4      0            373450   8.0500   NaN        S  "
      ]
     },
     "execution_count": 3,
     "metadata": {},
     "output_type": "execute_result"
    }
   ],
   "source": [
    "url = 'https://raw.githubusercontent.com/ZIFODS/Training/master/data/data_titanic.csv'\n",
    "df = pd.read_csv(url)\n",
    "df.head()"
   ]
  },
  {
   "cell_type": "markdown",
   "id": "a6af3ac9",
   "metadata": {},
   "source": [
    "**EDA task \"Dataset overview\"**: how many categorical and numerical variables there are and the proportion of missing data."
   ]
  },
  {
   "cell_type": "code",
   "execution_count": null,
   "id": "1810342b",
   "metadata": {},
   "outputs": [],
   "source": [
    "df.info()"
   ]
  },
  {
   "cell_type": "code",
   "execution_count": null,
   "id": "9abaf621",
   "metadata": {},
   "outputs": [],
   "source": [
    "# Function excludes the character columns and given summary about numeric columns.\n",
    "df.describe()"
   ]
  },
  {
   "cell_type": "code",
   "execution_count": null,
   "id": "35b1589e",
   "metadata": {},
   "outputs": [],
   "source": [
    "df.describe(include='all')"
   ]
  },
  {
   "cell_type": "code",
   "execution_count": null,
   "id": "d8e79b56",
   "metadata": {},
   "outputs": [],
   "source": [
    "# To show number of nulls (Not available data points or NAs) in the dataset\n",
    "missing = df.isnull().sum()\n",
    "missing"
   ]
  },
  {
   "cell_type": "code",
   "execution_count": null,
   "id": "860898d0",
   "metadata": {},
   "outputs": [],
   "source": [
    "# Code from https://towardsdatascience.com/machine-learning-with-python-classification-complete-tutorial-d2c99dc524ec\n",
    "'''\n",
    "Recognize whether a column is numerical or categorical.\n",
    ":parameter\n",
    "    :param df: dataframe - input data\n",
    "    :param col: str - name of the column to analyze\n",
    "    :param max_cat: num - max number of unique values to recognize a column as categorical\n",
    ":return\n",
    "    \"cat\" if the column is categorical or \"num\" otherwise\n",
    "'''\n",
    "def utils_recognize_type(df, col, max_cat=20):\n",
    "    if (df[col].dtype == \"O\") | (df[col].nunique() < max_cat):\n",
    "        return \"cat\"\n",
    "    else:\n",
    "        return \"num\""
   ]
  },
  {
   "cell_type": "code",
   "execution_count": null,
   "id": "234f0399",
   "metadata": {},
   "outputs": [],
   "source": [
    "dic_cols = {col:utils_recognize_type(df, col, max_cat=20) for col in df.columns}\n",
    "heatmap = df.isnull()\n",
    "for k,v in dic_cols.items():\n",
    "    if v == \"num\":\n",
    "        heatmap[k] = heatmap[k].apply(lambda x: 0.5 if x is False else 1)\n",
    "    else:\n",
    "        heatmap[k] = heatmap[k].apply(lambda x: 0 if x is False else 1)\n",
    "sns.heatmap(heatmap, cbar=False).set_title('Dataset Overview')\n",
    "plt.show()\n",
    "print(\"\\033[1;37;40m Categerocial \", \"\\033[1;30;41m Numeric \", \"\\033[1;30;47m NaN \")"
   ]
  },
  {
   "cell_type": "markdown",
   "id": "4804865d",
   "metadata": {},
   "source": [
    "There are 891 rows and 12 columns:\n",
    "\n",
    "* each row of the table represents a specific passenger (or observation) identified by PassengerId, \n",
    "* Survived is the phenomenon that we want to understand and predict (or target variable), It contains two classes: 1 if the passenger survived and 0 otherwise, therefore this use case is **a binary classification problem**.\n",
    "* Age and Fare are numerical variables while the others are categorical.\n",
    "* Only Age and Cabin contain missing data."
   ]
  },
  {
   "cell_type": "code",
   "execution_count": null,
   "id": "cd421160",
   "metadata": {},
   "outputs": [],
   "source": [
    "# Column PassengerId is a unique passenger identificator and can be used as an index.\n",
    "df = df.set_index(\"PassengerId\")"
   ]
  },
  {
   "cell_type": "markdown",
   "id": "f9a7537d",
   "metadata": {},
   "source": [
    "## Univariate Analysis - One variable analysis\n",
    "### Bar plot\n",
    "A bar plot is appropriate to understand labels frequency for a single categorical variable."
   ]
  },
  {
   "cell_type": "code",
   "execution_count": null,
   "id": "fa345283",
   "metadata": {},
   "outputs": [],
   "source": [
    "graph = plt.bar([\"No - 0\",\"Yes - 1\"],df[\"Survived\"].value_counts())\n",
    "plt.title(\"Survived\")\n",
    "plt.grid(axis=\"y\")\n",
    "\n",
    "# Add percentages to the bars\n",
    "i = 0\n",
    "for p in graph:\n",
    "    width = p.get_width()\n",
    "    height = p.get_height()\n",
    "    x, y = p.get_xy()\n",
    "    plt.text(x+width/2,\n",
    "             y+height*1.01,\n",
    "             str(round(df[\"Survived\"].value_counts(normalize=True).mul(100)[i],2))+'%',\n",
    "             ha='center')\n",
    "    i+=1\n",
    "    \n",
    "plt.show()"
   ]
  },
  {
   "cell_type": "code",
   "execution_count": null,
   "id": "03e406e1",
   "metadata": {},
   "outputs": [],
   "source": [
    "# Simiar barplot (called countplot) by using seaborn library:\n",
    "ax = sns.countplot(x=\"Survived\", data=df)\n",
    "\n",
    "# Add percentage\n",
    "total = sum(df[\"Survived\"].value_counts())\n",
    "for p in ax.patches:\n",
    "    percentage = f'{100 * p.get_height() / total:.2f}%\\n'\n",
    "    x = p.get_x() + p.get_width() / 2\n",
    "    y = p.get_height()\n",
    "    ax.annotate(percentage, (x, y), ha='center', va='center')\n",
    "plt.tight_layout()\n",
    "plt.show()"
   ]
  },
  {
   "cell_type": "markdown",
   "id": "83e79165",
   "metadata": {},
   "source": [
    "342 passengers survived and 549 didn’t, in other words the survival rate (or the population mean) is 38%."
   ]
  },
  {
   "cell_type": "code",
   "execution_count": null,
   "id": "ef3420d5",
   "metadata": {},
   "outputs": [],
   "source": [
    "df[\"Survived\"].value_counts()"
   ]
  },
  {
   "cell_type": "markdown",
   "id": "032822f1",
   "metadata": {},
   "source": [
    "### Histogram and Boxplot\n",
    "A histogram is perfect to give a rough sense of the density of the underlying distribution of a single numerical data.\n",
    "A boxplot is used to show locality, spread and skewness groups of numerical data."
   ]
  },
  {
   "cell_type": "code",
   "execution_count": null,
   "id": "1537cda2",
   "metadata": {},
   "outputs": [],
   "source": [
    "fig, ax = plt.subplots(nrows=1, ncols=2,  sharex=False, sharey=False)\n",
    "fig.suptitle(\"Age\", fontsize=20)\n",
    "\n",
    "### Histogram\n",
    "ax[0].title.set_text('Histogram')\n",
    "# Fill missing values with average age\n",
    "variable = df[\"Age\"].fillna(df[\"Age\"].mean())\n",
    "breaks = np.quantile(variable, q=np.linspace(0, 1, 11))\n",
    "variable = variable[ (variable > breaks[0]) & (variable < \n",
    "                    breaks[10]) ]\n",
    "# A kernel density estimate (KDE) plot is a method for visualizing the distribution of observations in a dataset, \n",
    "# analagous to a histogram. \n",
    "# KDE represents the data using a continuous probability density curve in one or more dimensions.\n",
    "sns.histplot(variable, kde=True, ax=ax[0])\n",
    "des = df[\"Age\"].describe()\n",
    "ax[0].axvline(des[\"25%\"], ls='--')\n",
    "ax[0].axvline(des[\"mean\"], ls='--')\n",
    "ax[0].axvline(des[\"75%\"], ls='--')\n",
    "ax[0].grid(True)\n",
    "des = round(des, 2).apply(lambda x: str(x))\n",
    "box = '\\n'.join((\"min: \"+des[\"min\"], \"25%: \"+des[\"25%\"], \"mean: \"+des[\"mean\"], \"75%: \"+des[\"75%\"], \"max: \"+des[\"max\"]))\n",
    "ax[0].text(0.95, 0.95, box, transform=ax[0].transAxes, fontsize=10, va='top', ha=\"right\", bbox=dict(boxstyle='round', facecolor='white', alpha=1))\n",
    "\n",
    "### Boxplot to show outliers\n",
    "ax[1].title.set_text('Boxplot (log scale)')\n",
    "tmp_df = pd.DataFrame(df[\"Age\"])\n",
    "tmp_df[\"Age\"] = np.log(tmp_df[\"Age\"])\n",
    "tmp_df.boxplot(column=\"Age\", ax=ax[1])\n",
    "plt.show()"
   ]
  },
  {
   "cell_type": "markdown",
   "id": "d9f03314",
   "metadata": {},
   "source": [
    "The passengers were, on average, pretty young: the distribution is skewed towards the left side (the mean is 29.7 years old and the 75th percentile is 38 years old). Coupled with the outliers in the box plot, the first spike in the left tail says that there was a significant amount of children."
   ]
  },
  {
   "cell_type": "code",
   "execution_count": 5,
   "id": "e472f2b1",
   "metadata": {},
   "outputs": [],
   "source": [
    "def get_num_people_by_age_category(df):\n",
    "    df[\"age_group\"] = pd.cut(x=df['Age'], bins=[0,1,4,16,30,60,100], labels=[\"baby\",\"toddler\",\"child\",\"young\",\"middle_aged\",\"old\"])\n",
    "    return df\n",
    "\n",
    "# Call function\n",
    "df = get_num_people_by_age_category(df)"
   ]
  },
  {
   "cell_type": "code",
   "execution_count": 6,
   "id": "fd2ea48c",
   "metadata": {},
   "outputs": [
    {
     "data": {
      "text/plain": [
       "young          309\n",
       "middle_aged    283\n",
       "child           60\n",
       "toddler         26\n",
       "old             22\n",
       "baby            14\n",
       "Name: age_group, dtype: int64"
      ]
     },
     "execution_count": 6,
     "metadata": {},
     "output_type": "execute_result"
    }
   ],
   "source": [
    "df[\"age_group\"].value_counts()"
   ]
  },
  {
   "cell_type": "markdown",
   "id": "83a72138",
   "metadata": {},
   "source": [
    "## Multivariate Analysis -  the simultaneous analysis of more than one outcome variable\n",
    "### Categorical vs numerical\n",
    "\n",
    "* split the population (the whole set of observations) into 2 groups: Survived=1 and Survived=0 (Not Survived).\n",
    "* plot and compare densities of the two groups, if the distributions are different then the variable is predictive because the two groups have different patterns.\n",
    "* group the numerical variable (Age) in bins (subgroups) and plot the composition of each bin, if the proportion of 1s is similar in all of them then the variable is not predictive.\n",
    "* plot and compare the box plots of the two groups to spot different behaviors of the outliers."
   ]
  },
  {
   "cell_type": "markdown",
   "id": "f622100f",
   "metadata": {},
   "source": [
    "#### Density plot\n",
    "Density plot compares densities of the two groups.\n",
    "\n",
    "A kernel density estimate (KDE) is a method for visualizing the distribution of observations in a dataset, analagous to a histogram. KDE represents the data using a continuous probability density curve in one or more dimensions."
   ]
  },
  {
   "cell_type": "code",
   "execution_count": null,
   "id": "f038b433",
   "metadata": {},
   "outputs": [],
   "source": [
    "cat, num = \"Survived\", \"Age\"\n",
    "\n",
    "for i in df[cat].unique():\n",
    "    sns.kdeplot(df[df[cat]==i][num], label=i)\n",
    "plt.title('Density Plot')\n",
    "plt.grid(True)\n",
    "plt.show()"
   ]
  },
  {
   "cell_type": "markdown",
   "id": "d9a83ae8",
   "metadata": {},
   "source": [
    "#### Bins plot\n",
    "\n",
    "Group the numerical variable (Age) in bins (subgroups) and plot the composition of each bin according to the categories. Bins help to see the pattern within subgroups, e.g. most of the babies survived, most of the eldery people didn't."
   ]
  },
  {
   "cell_type": "code",
   "execution_count": null,
   "id": "e6682bc0",
   "metadata": {},
   "outputs": [],
   "source": [
    "variable = df[\"Age\"].fillna(df[\"Age\"].mean())\n",
    "bins = [0,1,4,16,30,60,100]\n",
    "#bins = np.quantile(variable, q=np.linspace(0, 1, 11)) \n",
    "tmp = df.groupby([cat, pd.cut(variable, bins, duplicates='drop')]).size().unstack().T\n",
    "tmp = tmp[df[cat].unique()]\n",
    "tmp[\"tot\"] = tmp.sum(axis=1)\n",
    "for col in tmp.drop(\"tot\", axis=1).columns:\n",
    "     tmp[col] = tmp[col] / tmp[\"tot\"]\n",
    "tmp.drop(\"tot\", axis=1).plot(kind='bar', stacked=True, legend=True, grid=True)\n",
    "plt.title('Bins')\n",
    "plt.show()"
   ]
  },
  {
   "cell_type": "markdown",
   "id": "3caf3131",
   "metadata": {},
   "source": [
    "#### Boxplot for two variables\n",
    "\n",
    "Usually this type of a boxplot (catplot) is used to show outliers and compare categories, e.g. we can see that the on average age of not survived people are higher, however means are comparable - around 28 years old. "
   ]
  },
  {
   "cell_type": "code",
   "execution_count": null,
   "id": "3b9fa400",
   "metadata": {},
   "outputs": [],
   "source": [
    "sns.catplot(x=cat, y=num, data=df, kind=\"box\")\n",
    "plt.title('Outliers')\n",
    "plt.grid(True)\n",
    "plt.show()"
   ]
  },
  {
   "cell_type": "markdown",
   "id": "83f5b883",
   "metadata": {},
   "source": [
    "These 3 plots are just different perspectives of the conclusion that Age is predictive. The survival rate is higher for younger passengers: there is a spike in the left tail of 1s distribution and the first three bins (0–16 years old) contains the highest percentage of survived passengers."
   ]
  },
  {
   "cell_type": "markdown",
   "id": "ddcc15a8",
   "metadata": {},
   "source": [
    "#### Pair plot\n",
    "A pair plot is a matrix of scatterplots that lets you understand the pairwise relationship between different variables in a dataset."
   ]
  },
  {
   "cell_type": "code",
   "execution_count": null,
   "id": "4befea2b",
   "metadata": {},
   "outputs": [],
   "source": [
    "# Here we are looking at two numerical variables \"Age\" and \"Fare\",\n",
    "# and their relationship with categorical target variable \"Survived\" that is used for color (parameter \"hue\").\n",
    "sns.pairplot(df[['Age','Fare','Survived']], hue='Survived')"
   ]
  },
  {
   "cell_type": "markdown",
   "id": "68ef6b79",
   "metadata": {},
   "source": [
    "#### One-way ANOVA\n",
    "\n",
    "When not convinced by the “eye intuition”, you can always resort to good old statistics and run a test. In this case of categorical (Survived) vs numerical (Age), use a one-way ANOVA test. Basically, it tests whether the means of two or more independent samples are significantly different, so if the p-value is small enough (<0.05) the null hypothesis of samples means equality can be rejected."
   ]
  },
  {
   "cell_type": "code",
   "execution_count": null,
   "id": "50389246",
   "metadata": {},
   "outputs": [],
   "source": [
    "model = smf.ols(num+' ~ '+cat, data=df).fit()\n",
    "table = sm.stats.anova_lm(model)\n",
    "p = table[\"PR(>F)\"][0]\n",
    "coeff, p = None, round(p, 3)\n",
    "conclusion = \"Correlated\" if p < 0.05 else \"Non-Correlated\"\n",
    "print(\"Anova F: the variables are\", conclusion, \"(p-value: \"+str(p)+\")\")"
   ]
  },
  {
   "cell_type": "markdown",
   "id": "b5ddd4e7",
   "metadata": {},
   "source": [
    "### Categorical vs Categorical\n",
    "In such a case, we are comparing categorical target variable with another categorical variable, looking for predictive patterns. \n",
    "\n",
    "#### Count plot\n",
    "A count plot can be thought of as a histogram across a categorical, instead of quantitative variable"
   ]
  },
  {
   "cell_type": "code",
   "execution_count": null,
   "id": "6e932e49",
   "metadata": {},
   "outputs": [],
   "source": [
    "sns.countplot(x='Sex', hue=cat, data=df)"
   ]
  },
  {
   "cell_type": "markdown",
   "id": "69649c1b",
   "metadata": {},
   "source": [
    "#### Plot showing percentages (Barplot with percentages)\n",
    "\n",
    "Similar to count plot but insted of count showing percentages."
   ]
  },
  {
   "cell_type": "code",
   "execution_count": null,
   "id": "76fc48e7",
   "metadata": {},
   "outputs": [],
   "source": [
    "x, y = \"Sex\", \"Survived\"\n",
    "fig, ax = plt.subplots(nrows=1, ncols=2,  sharex=False, sharey=False)\n",
    "fig.suptitle(x+\"   vs   \"+y, fontsize=20)\n",
    "### Count\n",
    "ax[0].title.set_text('Count')\n",
    "order = df.groupby(x)[y].count().index.tolist()\n",
    "sns.countplot(x=x, hue=y, data=df, order=order, ax=ax[0])\n",
    "ax[0].grid(True)\n",
    "\n",
    "\n",
    "### Percentage\n",
    "ax[1].title.set_text('Percentage')\n",
    "a = df.groupby(x)[y].count().reset_index()\n",
    "a = a.rename(columns={y:\"tot\"})\n",
    "b = df.groupby([x,y],as_index=False)[y].count()\n",
    "b = b.rename(columns={y:\"count\"}).reset_index()\n",
    "b = b.merge(a, how=\"left\")\n",
    "b[\"Survived\"] = [0,1,0,1] \n",
    "b[\"%\"] = b[\"count\"] / b[\"tot\"] *100\n",
    "sns.barplot(x=x, y=\"%\", hue=y, data=b, ax=ax[1]).get_legend().remove()\n",
    "ax[1].grid(True)\n",
    "plt.show()\n"
   ]
  },
  {
   "cell_type": "markdown",
   "id": "ca8d561b",
   "metadata": {},
   "source": [
    "More than 200 female passengers (75% of the total amount of women onboard) and about 100 male passengers (less than 20%) survived. To put it another way, among women the survival rate is 75% and among men is 20%, therefore Sex is predictive. Moreover, this confirms that they gave priority to women and children."
   ]
  },
  {
   "cell_type": "markdown",
   "id": "cba8c4d5",
   "metadata": {},
   "source": [
    "#### Heatmap\n",
    "\n",
    "A heatmap (or heat map) is a graphical representation of data where values are depicted by color. "
   ]
  },
  {
   "cell_type": "code",
   "execution_count": null,
   "id": "db69aeab",
   "metadata": {},
   "outputs": [],
   "source": [
    "## Create contingency table\n",
    "cont_table = pd.crosstab(index=df[\"Sex\"], columns=df[\"Survived\"])\n",
    "cont_table"
   ]
  },
  {
   "cell_type": "code",
   "execution_count": null,
   "id": "19ea62a6",
   "metadata": {},
   "outputs": [],
   "source": [
    "sns.heatmap(cont_table, annot=True, cmap=\"YlGnBu\", fmt='.0f',\n",
    "            linewidths=.5).set_title( \n",
    "            'Sex vs Survival' )"
   ]
  },
  {
   "cell_type": "markdown",
   "id": "566feb25",
   "metadata": {},
   "source": [
    "Heatmaps are useful when we have multiple classes in both categorical variables."
   ]
  },
  {
   "cell_type": "code",
   "execution_count": null,
   "id": "2f1bd9f1",
   "metadata": {},
   "outputs": [],
   "source": [
    "## Plot contingency table\n",
    "cont_table = pd.crosstab(index=df[\"age_group\"], \n",
    "             columns=df[\"Pclass\"], values=df[\"Survived\"]==1, aggfunc=\"sum\")\n",
    "sns.heatmap(cont_table, annot=True, cmap=\"YlGnBu\", fmt='.0f',\n",
    "            linewidths=.5).set_title( \n",
    "            'Age group vs Pclass (filter: Survived)' )"
   ]
  },
  {
   "cell_type": "markdown",
   "id": "31958143",
   "metadata": {},
   "source": [
    "#### Chi-Square test and Cramer’s V \n",
    "To test the correlation of these 2 categorical variables we use a **Chi-Square test**: assuming that two variables are independent (null hypothesis), it tests whether the values of the contingency table for these variables are uniformly distributed. \n",
    "\n",
    "If the p-value is small enough (<0.05), the null hypothesis can be rejected and we can say that the two variables are probably dependent. \n",
    "\n",
    "It’s possible to calculate **Cramer’s V**  that is a measure of correlation that follows from this test, which is symmetrical (like traditional Pearson’s correlation) and ranges between 0 and 1 (unlike traditional Pearson’s correlation there are no negative values)."
   ]
  },
  {
   "cell_type": "code",
   "execution_count": null,
   "id": "71f4c436",
   "metadata": {},
   "outputs": [],
   "source": [
    "x, y = \"Sex\", \"Survived\"\n",
    "cont_table = pd.crosstab(index=df[x], columns=df[y])\n",
    "chi2_test = scipy.stats.chi2_contingency(cont_table)\n",
    "chi2, p = chi2_test[0], chi2_test[1]\n",
    "n = cont_table.sum().sum()\n",
    "phi2 = chi2/n\n",
    "r,k = cont_table.shape\n",
    "phi2corr = max(0, phi2-((k-1)*(r-1))/(n-1))\n",
    "rcorr = r-((r-1)**2)/(n-1)\n",
    "kcorr = k-((k-1)**2)/(n-1)\n",
    "coeff = np.sqrt(phi2corr/min((kcorr-1), (rcorr-1)))\n",
    "coeff, p = round(coeff, 3), round(p, 3)\n",
    "conclusion = \"Significant\" if p < 0.05 else \"Non-Significant\"\n",
    "print(\"Cramer Correlation:\", coeff, conclusion, \"(p-value:\"+str(p)+\")\")"
   ]
  },
  {
   "cell_type": "markdown",
   "id": "d7734af3",
   "metadata": {},
   "source": [
    "### Numerical vs numerical\n",
    "#### Scatter plot\n",
    "\n",
    "A scatter plot (aka scatter chart, scatter graph) uses dots to represent values for two different numeric variables. The position of each dot on the horizontal and vertical axis indicates values for an individual data point."
   ]
  },
  {
   "cell_type": "code",
   "execution_count": null,
   "id": "538e0749",
   "metadata": {},
   "outputs": [],
   "source": [
    "sns.pairplot(df[['Age','Fare','Survived']], hue='Survived')"
   ]
  },
  {
   "cell_type": "code",
   "execution_count": null,
   "id": "ae713991",
   "metadata": {},
   "outputs": [],
   "source": [
    "sns.relplot(x=\"Age\", y=\"Fare\", hue=\"Survived\", data=df);"
   ]
  },
  {
   "cell_type": "markdown",
   "id": "5d37c8d3",
   "metadata": {},
   "source": [
    "## Correlation Analysis\n",
    "Correlation is the statistical analysis of the relationship or dependency between two variables. Correlation allows us to study both the strength and direction of the relationship between two sets of variables.\n",
    "\n",
    "Some ML algorithms will not work properly if two or more variables are closely related, usually known as multicollinearity. \n",
    "There are different types of correlation:\n",
    "* Positive Correlation: Two variables are said to be positively correlated when their values move in the same direction.\n",
    "* Neutral Correlation: No relationship in the change of variables X and Y. \n",
    "* Negative Correlation: Finally, variables X and Y will be negatively correlated when their values change in opposite directions, so here as the value for X increases, the value for Y decreases at a constant rate.\n",
    "\n",
    "There are different correlation coefficients we can use: **Pearson’s Correlation**, can be used to summarize the strength of the linear relationship between two variables; **Spearman's Correlation**, that is used to see the effect of a nonlinear relationship between two variables; **Kendall’s Tau coefficient** in a similar way as Spearman’s rank correlation coefficient assess statistical associations based on the ranks of the data.\n",
    "\n",
    "Read more about correlation here: https://machinelearningmastery.com/how-to-use-correlation-to-understand-the-relationship-between-variables/"
   ]
  },
  {
   "cell_type": "code",
   "execution_count": 7,
   "id": "f4b444be",
   "metadata": {},
   "outputs": [],
   "source": [
    "# Encode categorical textual variables Sex and age_group into numerical format needed for correlation calculation.\n",
    "le = preproc.LabelEncoder()\n",
    "df['Sex_label'] = le.fit_transform(df[\"Sex\"])\n",
    "df['Age_group_label'] = le.fit_transform(df[\"age_group\"])"
   ]
  },
  {
   "cell_type": "code",
   "execution_count": 8,
   "id": "952202cb",
   "metadata": {},
   "outputs": [
    {
     "data": {
      "text/plain": [
       "<AxesSubplot:>"
      ]
     },
     "execution_count": 8,
     "metadata": {},
     "output_type": "execute_result"
    },
    {
     "data": {
      "image/png": "[encoded data removed]",
      "text/plain": [
       "<Figure size 648x576 with 2 Axes>"
      ]
     },
     "metadata": {
      "needs_background": "light"
     },
     "output_type": "display_data"
    }
   ],
   "source": [
    "corrmat = df.corr(method='pearson')\n",
    "  \n",
    "f, ax = plt.subplots(figsize =(9, 8))\n",
    "sns.heatmap(corrmat, ax = ax, cmap =\"YlGnBu\", linewidths = 0.1)"
   ]
  },
  {
   "cell_type": "code",
   "execution_count": 9,
   "id": "8423480a",
   "metadata": {},
   "outputs": [
    {
     "data": {
      "text/html": [
       "<div>\n",
       "<style scoped>\n",
       "    .dataframe tbody tr th:only-of-type {\n",
       "        vertical-align: middle;\n",
       "    }\n",
       "\n",
       "    .dataframe tbody tr th {\n",
       "        vertical-align: top;\n",
       "    }\n",
       "\n",
       "    .dataframe thead th {\n",
       "        text-align: right;\n",
       "    }\n",
       "</style>\n",
       "<table border=\"1\" class=\"dataframe\">\n",
       "  <thead>\n",
       "    <tr style=\"text-align: right;\">\n",
       "      <th></th>\n",
       "      <th>PassengerId</th>\n",
       "      <th>Survived</th>\n",
       "      <th>Pclass</th>\n",
       "      <th>Age</th>\n",
       "      <th>SibSp</th>\n",
       "      <th>Parch</th>\n",
       "      <th>Fare</th>\n",
       "      <th>Sex_label</th>\n",
       "      <th>Age_group_label</th>\n",
       "    </tr>\n",
       "  </thead>\n",
       "  <tbody>\n",
       "    <tr>\n",
       "      <th>PassengerId</th>\n",
       "      <td>1.000000</td>\n",
       "      <td>-0.005007</td>\n",
       "      <td>-0.035144</td>\n",
       "      <td>0.036847</td>\n",
       "      <td>-0.057527</td>\n",
       "      <td>-0.001652</td>\n",
       "      <td>0.012658</td>\n",
       "      <td>0.042939</td>\n",
       "      <td>-0.052248</td>\n",
       "    </tr>\n",
       "    <tr>\n",
       "      <th>Survived</th>\n",
       "      <td>-0.005007</td>\n",
       "      <td>1.000000</td>\n",
       "      <td>-0.338481</td>\n",
       "      <td>-0.077221</td>\n",
       "      <td>-0.035322</td>\n",
       "      <td>0.081629</td>\n",
       "      <td>0.257307</td>\n",
       "      <td>-0.543351</td>\n",
       "      <td>-0.125493</td>\n",
       "    </tr>\n",
       "    <tr>\n",
       "      <th>Pclass</th>\n",
       "      <td>-0.035144</td>\n",
       "      <td>-0.338481</td>\n",
       "      <td>1.000000</td>\n",
       "      <td>-0.369226</td>\n",
       "      <td>0.083081</td>\n",
       "      <td>0.018443</td>\n",
       "      <td>-0.549500</td>\n",
       "      <td>0.131900</td>\n",
       "      <td>0.209505</td>\n",
       "    </tr>\n",
       "    <tr>\n",
       "      <th>Age</th>\n",
       "      <td>0.036847</td>\n",
       "      <td>-0.077221</td>\n",
       "      <td>-0.369226</td>\n",
       "      <td>1.000000</td>\n",
       "      <td>-0.308247</td>\n",
       "      <td>-0.189119</td>\n",
       "      <td>0.096067</td>\n",
       "      <td>0.093254</td>\n",
       "      <td>-0.257779</td>\n",
       "    </tr>\n",
       "    <tr>\n",
       "      <th>SibSp</th>\n",
       "      <td>-0.057527</td>\n",
       "      <td>-0.035322</td>\n",
       "      <td>0.083081</td>\n",
       "      <td>-0.308247</td>\n",
       "      <td>1.000000</td>\n",
       "      <td>0.414838</td>\n",
       "      <td>0.159651</td>\n",
       "      <td>-0.114631</td>\n",
       "      <td>-0.095181</td>\n",
       "    </tr>\n",
       "    <tr>\n",
       "      <th>Parch</th>\n",
       "      <td>-0.001652</td>\n",
       "      <td>0.081629</td>\n",
       "      <td>0.018443</td>\n",
       "      <td>-0.189119</td>\n",
       "      <td>0.414838</td>\n",
       "      <td>1.000000</td>\n",
       "      <td>0.216225</td>\n",
       "      <td>-0.245489</td>\n",
       "      <td>-0.217979</td>\n",
       "    </tr>\n",
       "    <tr>\n",
       "      <th>Fare</th>\n",
       "      <td>0.012658</td>\n",
       "      <td>0.257307</td>\n",
       "      <td>-0.549500</td>\n",
       "      <td>0.096067</td>\n",
       "      <td>0.159651</td>\n",
       "      <td>0.216225</td>\n",
       "      <td>1.000000</td>\n",
       "      <td>-0.182333</td>\n",
       "      <td>-0.133538</td>\n",
       "    </tr>\n",
       "    <tr>\n",
       "      <th>Sex_label</th>\n",
       "      <td>0.042939</td>\n",
       "      <td>-0.543351</td>\n",
       "      <td>0.131900</td>\n",
       "      <td>0.093254</td>\n",
       "      <td>-0.114631</td>\n",
       "      <td>-0.245489</td>\n",
       "      <td>-0.182333</td>\n",
       "      <td>1.000000</td>\n",
       "      <td>0.056279</td>\n",
       "    </tr>\n",
       "    <tr>\n",
       "      <th>Age_group_label</th>\n",
       "      <td>-0.052248</td>\n",
       "      <td>-0.125493</td>\n",
       "      <td>0.209505</td>\n",
       "      <td>-0.257779</td>\n",
       "      <td>-0.095181</td>\n",
       "      <td>-0.217979</td>\n",
       "      <td>-0.133538</td>\n",
       "      <td>0.056279</td>\n",
       "      <td>1.000000</td>\n",
       "    </tr>\n",
       "  </tbody>\n",
       "</table>\n",
       "</div>"
      ],
      "text/plain": [
       "                 PassengerId  Survived    Pclass       Age     SibSp  \\\n",
       "PassengerId         1.000000 -0.005007 -0.035144  0.036847 -0.057527   \n",
       "Survived           -0.005007  1.000000 -0.338481 -0.077221 -0.035322   \n",
       "Pclass             -0.035144 -0.338481  1.000000 -0.369226  0.083081   \n",
       "Age                 0.036847 -0.077221 -0.369226  1.000000 -0.308247   \n",
       "SibSp              -0.057527 -0.035322  0.083081 -0.308247  1.000000   \n",
       "Parch              -0.001652  0.081629  0.018443 -0.189119  0.414838   \n",
       "Fare                0.012658  0.257307 -0.549500  0.096067  0.159651   \n",
       "Sex_label           0.042939 -0.543351  0.131900  0.093254 -0.114631   \n",
       "Age_group_label    -0.052248 -0.125493  0.209505 -0.257779 -0.095181   \n",
       "\n",
       "                    Parch      Fare  Sex_label  Age_group_label  \n",
       "PassengerId     -0.001652  0.012658   0.042939        -0.052248  \n",
       "Survived         0.081629  0.257307  -0.543351        -0.125493  \n",
       "Pclass           0.018443 -0.549500   0.131900         0.209505  \n",
       "Age             -0.189119  0.096067   0.093254        -0.257779  \n",
       "SibSp            0.414838  0.159651  -0.114631        -0.095181  \n",
       "Parch            1.000000  0.216225  -0.245489        -0.217979  \n",
       "Fare             0.216225  1.000000  -0.182333        -0.133538  \n",
       "Sex_label       -0.245489 -0.182333   1.000000         0.056279  \n",
       "Age_group_label -0.217979 -0.133538   0.056279         1.000000  "
      ]
     },
     "execution_count": 9,
     "metadata": {},
     "output_type": "execute_result"
    }
   ],
   "source": [
    "df.corr(method='pearson')"
   ]
  },
  {
   "cell_type": "code",
   "execution_count": 10,
   "id": "88b1fb1e",
   "metadata": {},
   "outputs": [
    {
     "data": {
      "text/html": [
       "<div>\n",
       "<style scoped>\n",
       "    .dataframe tbody tr th:only-of-type {\n",
       "        vertical-align: middle;\n",
       "    }\n",
       "\n",
       "    .dataframe tbody tr th {\n",
       "        vertical-align: top;\n",
       "    }\n",
       "\n",
       "    .dataframe thead th {\n",
       "        text-align: right;\n",
       "    }\n",
       "</style>\n",
       "<table border=\"1\" class=\"dataframe\">\n",
       "  <thead>\n",
       "    <tr style=\"text-align: right;\">\n",
       "      <th></th>\n",
       "      <th>PassengerId</th>\n",
       "      <th>Survived</th>\n",
       "      <th>Pclass</th>\n",
       "      <th>Age</th>\n",
       "      <th>SibSp</th>\n",
       "      <th>Parch</th>\n",
       "      <th>Fare</th>\n",
       "      <th>Sex_label</th>\n",
       "      <th>Age_group_label</th>\n",
       "    </tr>\n",
       "  </thead>\n",
       "  <tbody>\n",
       "    <tr>\n",
       "      <th>PassengerId</th>\n",
       "      <td>1.000000</td>\n",
       "      <td>-0.005007</td>\n",
       "      <td>-0.034091</td>\n",
       "      <td>0.041010</td>\n",
       "      <td>-0.061161</td>\n",
       "      <td>0.001235</td>\n",
       "      <td>-0.013975</td>\n",
       "      <td>0.042939</td>\n",
       "      <td>-0.046048</td>\n",
       "    </tr>\n",
       "    <tr>\n",
       "      <th>Survived</th>\n",
       "      <td>-0.005007</td>\n",
       "      <td>1.000000</td>\n",
       "      <td>-0.339668</td>\n",
       "      <td>-0.052565</td>\n",
       "      <td>0.088879</td>\n",
       "      <td>0.138266</td>\n",
       "      <td>0.323736</td>\n",
       "      <td>-0.543351</td>\n",
       "      <td>-0.129659</td>\n",
       "    </tr>\n",
       "    <tr>\n",
       "      <th>Pclass</th>\n",
       "      <td>-0.034091</td>\n",
       "      <td>-0.339668</td>\n",
       "      <td>1.000000</td>\n",
       "      <td>-0.361666</td>\n",
       "      <td>-0.043019</td>\n",
       "      <td>-0.022801</td>\n",
       "      <td>-0.688032</td>\n",
       "      <td>0.135775</td>\n",
       "      <td>0.209536</td>\n",
       "    </tr>\n",
       "    <tr>\n",
       "      <th>Age</th>\n",
       "      <td>0.041010</td>\n",
       "      <td>-0.052565</td>\n",
       "      <td>-0.361666</td>\n",
       "      <td>1.000000</td>\n",
       "      <td>-0.182061</td>\n",
       "      <td>-0.254212</td>\n",
       "      <td>0.135051</td>\n",
       "      <td>0.083330</td>\n",
       "      <td>-0.259273</td>\n",
       "    </tr>\n",
       "    <tr>\n",
       "      <th>SibSp</th>\n",
       "      <td>-0.061161</td>\n",
       "      <td>0.088879</td>\n",
       "      <td>-0.043019</td>\n",
       "      <td>-0.182061</td>\n",
       "      <td>1.000000</td>\n",
       "      <td>0.450014</td>\n",
       "      <td>0.447113</td>\n",
       "      <td>-0.195204</td>\n",
       "      <td>-0.174805</td>\n",
       "    </tr>\n",
       "    <tr>\n",
       "      <th>Parch</th>\n",
       "      <td>0.001235</td>\n",
       "      <td>0.138266</td>\n",
       "      <td>-0.022801</td>\n",
       "      <td>-0.254212</td>\n",
       "      <td>0.450014</td>\n",
       "      <td>1.000000</td>\n",
       "      <td>0.410074</td>\n",
       "      <td>-0.254512</td>\n",
       "      <td>-0.261705</td>\n",
       "    </tr>\n",
       "    <tr>\n",
       "      <th>Fare</th>\n",
       "      <td>-0.013975</td>\n",
       "      <td>0.323736</td>\n",
       "      <td>-0.688032</td>\n",
       "      <td>0.135051</td>\n",
       "      <td>0.447113</td>\n",
       "      <td>0.410074</td>\n",
       "      <td>1.000000</td>\n",
       "      <td>-0.259593</td>\n",
       "      <td>-0.280754</td>\n",
       "    </tr>\n",
       "    <tr>\n",
       "      <th>Sex_label</th>\n",
       "      <td>0.042939</td>\n",
       "      <td>-0.543351</td>\n",
       "      <td>0.135775</td>\n",
       "      <td>0.083330</td>\n",
       "      <td>-0.195204</td>\n",
       "      <td>-0.254512</td>\n",
       "      <td>-0.259593</td>\n",
       "      <td>1.000000</td>\n",
       "      <td>0.068475</td>\n",
       "    </tr>\n",
       "    <tr>\n",
       "      <th>Age_group_label</th>\n",
       "      <td>-0.046048</td>\n",
       "      <td>-0.129659</td>\n",
       "      <td>0.209536</td>\n",
       "      <td>-0.259273</td>\n",
       "      <td>-0.174805</td>\n",
       "      <td>-0.261705</td>\n",
       "      <td>-0.280754</td>\n",
       "      <td>0.068475</td>\n",
       "      <td>1.000000</td>\n",
       "    </tr>\n",
       "  </tbody>\n",
       "</table>\n",
       "</div>"
      ],
      "text/plain": [
       "                 PassengerId  Survived    Pclass       Age     SibSp  \\\n",
       "PassengerId         1.000000 -0.005007 -0.034091  0.041010 -0.061161   \n",
       "Survived           -0.005007  1.000000 -0.339668 -0.052565  0.088879   \n",
       "Pclass             -0.034091 -0.339668  1.000000 -0.361666 -0.043019   \n",
       "Age                 0.041010 -0.052565 -0.361666  1.000000 -0.182061   \n",
       "SibSp              -0.061161  0.088879 -0.043019 -0.182061  1.000000   \n",
       "Parch               0.001235  0.138266 -0.022801 -0.254212  0.450014   \n",
       "Fare               -0.013975  0.323736 -0.688032  0.135051  0.447113   \n",
       "Sex_label           0.042939 -0.543351  0.135775  0.083330 -0.195204   \n",
       "Age_group_label    -0.046048 -0.129659  0.209536 -0.259273 -0.174805   \n",
       "\n",
       "                    Parch      Fare  Sex_label  Age_group_label  \n",
       "PassengerId      0.001235 -0.013975   0.042939        -0.046048  \n",
       "Survived         0.138266  0.323736  -0.543351        -0.129659  \n",
       "Pclass          -0.022801 -0.688032   0.135775         0.209536  \n",
       "Age             -0.254212  0.135051   0.083330        -0.259273  \n",
       "SibSp            0.450014  0.447113  -0.195204        -0.174805  \n",
       "Parch            1.000000  0.410074  -0.254512        -0.261705  \n",
       "Fare             0.410074  1.000000  -0.259593        -0.280754  \n",
       "Sex_label       -0.254512 -0.259593   1.000000         0.068475  \n",
       "Age_group_label -0.261705 -0.280754   0.068475         1.000000  "
      ]
     },
     "execution_count": 10,
     "metadata": {},
     "output_type": "execute_result"
    }
   ],
   "source": [
    "df.corr(method='spearman')"
   ]
  },
  {
   "cell_type": "code",
   "execution_count": 11,
   "id": "ceea94b2",
   "metadata": {},
   "outputs": [
    {
     "data": {
      "text/plain": [
       "<AxesSubplot:>"
      ]
     },
     "execution_count": 11,
     "metadata": {},
     "output_type": "execute_result"
    },
    {
     "data": {
      "image/png": "[encoded data removed]",
      "text/plain": [
       "<Figure size 648x576 with 2 Axes>"
      ]
     },
     "metadata": {
      "needs_background": "light"
     },
     "output_type": "display_data"
    }
   ],
   "source": [
    "# Seaborn library's heatmap function lets you to plot the correlation showing calculated coefficients. \n",
    "f, ax = plt.subplots(figsize =(9, 8))\n",
    "sns.heatmap(df.corr(method='kendall'), ax = ax, cmap =\"YlGnBu\", linewidths = 0.1, annot=True)"
   ]
  },
  {
   "cell_type": "markdown",
   "id": "889fee6e",
   "metadata": {},
   "source": [
    "# Exercise\n",
    "\n",
    "1. Load the \"iris\" dataset (url = 'https://raw.githubusercontent.com/ZIFODS/Training/master/data/data_iris.csv').\n",
    "2. How many numerical and categorical variables are in the dataset?\n",
    "3. What is the most obvious target variable?\n",
    "4. How many missing values are in each column?\n",
    "5. Visualize all the columns' relationships using pair plots.\n",
    "6. Which target class has a large difference in its characteristics compared to the other classes?"
   ]
  }
 ],
 "metadata": {
  "kernelspec": {
   "display_name": "Python 3 (ipykernel)",
   "language": "python",
   "name": "python3"
  },
  "language_info": {
   "codemirror_mode": {
    "name": "ipython",
    "version": 3
   },
   "file_extension": ".py",
   "mimetype": "text/x-python",
   "name": "python",
   "nbconvert_exporter": "python",
   "pygments_lexer": "ipython3",
   "version": "3.9.7"
  }
 },
 "nbformat": 4,
 "nbformat_minor": 5
}
